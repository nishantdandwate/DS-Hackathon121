{
 "cells": [
  {
   "cell_type": "code",
   "execution_count": null,
   "id": "cd1706c3",
   "metadata": {},
   "outputs": [],
   "source": [
    "import zipfile\n",
    "import os\n",
    "\n",
    "# Unzip the movie_data.zip file\n",
    "with zipfile.ZipFile('movie_data.zip', 'r') as zip_ref:\n",
    "    zip_ref.extractall()\n",
    "\n",
    "# List the contents of the directory again to confirm extraction\n",
    "print(os.listdir())"
   ]
  },
  {
   "cell_type": "code",
   "execution_count": null,
   "id": "a2a379dc",
   "metadata": {},
   "outputs": [],
   "source": [
    "# Now that we have confirmed the presence of movies.csv, let's load it and print its shape\n",
    "movies_df = pd.read_csv('movies.csv')\n",
    "print('Shape of movies.csv:', movies_df.shape)"
   ]
  },
  {
   "cell_type": "code",
   "execution_count": null,
   "id": "406eb21c",
   "metadata": {},
   "outputs": [],
   "source": [
    "# Load the ratings.csv file and print its shape\n",
    "ratings_df = pd.read_csv('ratings.csv')\n",
    "print('Shape of ratings.csv:', ratings_df.shape)"
   ]
  },
  {
   "cell_type": "code",
   "execution_count": null,
   "id": "a829c6d4",
   "metadata": {},
   "outputs": [],
   "source": [
    "# Calculate the number of unique user IDs in the ratings.csv file\n",
    "unique_user_ids = ratings_df['userId'].nunique()\n",
    "print('Number of unique user IDs:', unique_user_ids)"
   ]
  },
  {
   "cell_type": "code",
   "execution_count": null,
   "id": "3985d6aa",
   "metadata": {},
   "outputs": [],
   "source": [
    "# Find the movie with the maximum number of user ratings\n",
    "movie_rating_counts = ratings_df['movieId'].value_counts()\n",
    "max_ratings_movie_id = movie_rating_counts.idxmax()\n",
    "max_ratings_count = movie_rating_counts.max()\n",
    "\n",
    "# Find the movie title corresponding to the movie with the maximum number of ratings\n",
    "movie_title = movies_df.loc[movies_df['movieId'] == max_ratings_movie_id, 'title'].iloc[0]\n",
    "\n",
    "print('Movie with the maximum number of user ratings:')\n",
    "print('Movie ID:', max_ratings_movie_id)\n",
    "print('Title:', movie_title)\n",
    "print('Number of ratings:', max_ratings_count)"
   ]
  },
  {
   "cell_type": "code",
   "execution_count": null,
   "id": "62ca619c",
   "metadata": {},
   "outputs": [],
   "source": [
    "# Load the tags.csv file since it hasn't been loaded yet\n",
    "# Then perform the search for tags related to 'The Matrix (1999)'\n",
    "tags_df = pd.read_csv('tags.csv')\n",
    "\n",
    "# Repeating the previous operation now that tags_df is defined\n",
    "matrix_movie_id = movies_df[movies_df['title'].str.contains('Matrix, The \\(1999\\)', regex=True)]['movieId'].iloc[0]\n",
    "matrix_tags = tags_df[tags_df['movieId'] == matrix_movie_id]['tag'].unique()\n",
    "print(matrix_tags)"
   ]
  },
  {
   "cell_type": "code",
   "execution_count": null,
   "id": "f84e7b56",
   "metadata": {},
   "outputs": [],
   "source": [
    "# Find the movieId for 'Terminator 2: Judgment Day (1991)'\n",
    "terminator_movie_id = movies_df[movies_df['title'] == 'Terminator 2: Judgment Day (1991)']['movieId'].iloc[0]\n",
    "\n",
    "# Now, find the average user rating for 'Terminator 2: Judgment Day (1991)'\n",
    "terminator_avg_rating = ratings_df[ratings_df['movieId'] == terminator_movie_id]['rating'].mean()\n",
    "print('Average user rating for Terminator 2: Judgment Day (1991):', terminator_avg_rating)"
   ]
  },
  {
   "cell_type": "code",
   "execution_count": null,
   "id": "ff3e1acf",
   "metadata": {},
   "outputs": [],
   "source": [
    "import matplotlib.pyplot as plt\n",
    "\n",
    "# Find the movieId for 'Fight Club (1999)'\n",
    "fight_club_movie_id = movies_df[movies_df['title'] == 'Fight Club (1999)']['movieId'].iloc[0]\n",
    "\n",
    "# Extract the ratings for 'Fight Club (1999)'\n",
    "fight_club_ratings = ratings_df[ratings_df['movieId'] == fight_club_movie_id]['rating']\n",
    "\n",
    "# Plot the distribution of the ratings\n",
    "plt.figure(figsize=(10, 6))\n",
    "plt.hist(fight_club_ratings, bins=20, edgecolor='black')\n",
    "plt.title('Rating Distribution for Fight Club (1999)')\n",
    "plt.xlabel('Rating')\n",
    "plt.ylabel('Number of Ratings')\n",
    "plt.grid(axis='y', alpha=0.75)\n",
    "plt.show()"
   ]
  },
  {
   "cell_type": "code",
   "execution_count": null,
   "id": "a63faa75",
   "metadata": {},
   "outputs": [],
   "source": [
    "# Group the user ratings based on movieId and apply aggregation operations like count and mean on ratings\n",
    "grouped_ratings = ratings_df.groupby('movieId')['rating'].agg(['count', 'mean'])\n",
    "\n",
    "# Apply inner join on dataframe created from movies.csv and the grouped df from step 1\n",
    "movies_with_ratings = movies_df.merge(grouped_ratings, left_on='movieId', right_index=True)\n",
    "\n",
    "# Filter only those movies which have more than 50 user ratings\n",
    "movies_with_more_than_50_ratings = movies_with_ratings[movies_with_ratings['count'] > 50]\n",
    "\n",
    "# Display the head of the resulting dataframe\n",
    "print(movies_with_more_than_50_ratings.head())"
   ]
  },
  {
   "cell_type": "code",
   "execution_count": null,
   "id": "30fee243",
   "metadata": {},
   "outputs": [],
   "source": [
    "# Find the movie with the highest average rating from the filtered movies\n",
    "most_popular_movie = movies_with_more_than_50_ratings.loc[movies_with_more_than_50_ratings['mean'].idxmax()]\n",
    "print(most_popular_movie)"
   ]
  },
  {
   "cell_type": "code",
   "execution_count": null,
   "id": "8328711e",
   "metadata": {},
   "outputs": [],
   "source": [
    "# Sort the movies_with_more_than_50_ratings dataframe by the count of ratings in descending order\n",
    "# and select the top 5 movies based on the number of user ratings\n",
    "top_5_movies_by_count = movies_with_more_than_50_ratings.sort_values(by='count', ascending=False).head(5)\n",
    "print(top_5_movies_by_count[['title', 'count']])"
   ]
  }
 ],
 "metadata": {
  "kernelspec": {
   "display_name": "Python 3 (ipykernel)",
   "language": "python",
   "name": "python3"
  },
  "language_info": {
   "codemirror_mode": {
    "name": "ipython",
    "version": 3
   },
   "file_extension": ".py",
   "mimetype": "text/x-python",
   "name": "python",
   "nbconvert_exporter": "python",
   "pygments_lexer": "ipython3",
   "version": "3.11.2"
  }
 },
 "nbformat": 4,
 "nbformat_minor": 5
}
